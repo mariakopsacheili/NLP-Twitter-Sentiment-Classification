{
 "cells": [
  {
   "cell_type": "markdown",
   "id": "072dd1fa",
   "metadata": {},
   "source": [
    "# Import Libraries"
   ]
  },
  {
   "cell_type": "code",
   "execution_count": 68,
   "id": "0d7ed73e",
   "metadata": {},
   "outputs": [],
   "source": [
    "import numpy as np\n",
    "import pandas as pd\n",
    "import matplotlib.pyplot as plt\n",
    "import seaborn as sns\n",
    "sns.set()\n",
    "import re\n",
    "from sklearn.model_selection import train_test_split\n",
    "from sklearn.ensemble import RandomForestClassifier \n",
    "from nltk.stem import WordNetLemmatizer\n",
    "from nltk.corpus import stopwords\n",
    "from nltk import word_tokenize, pos_tag\n",
    "from sklearn.metrics import classification_report\n",
    "from sklearn.feature_extraction.text import CountVectorizer, TfidfVectorizer\n",
    "from sklearn.naive_bayes import MultinomialNB\n",
    "from sklearn.linear_model import LogisticRegression\n",
    "from sklearn.svm import LinearSVC"
   ]
  },
  {
   "cell_type": "markdown",
   "id": "1ba17dc3",
   "metadata": {},
   "source": [
    "# Read train csv"
   ]
  },
  {
   "cell_type": "code",
   "execution_count": 69,
   "id": "9d1b52b3",
   "metadata": {},
   "outputs": [],
   "source": [
    "train_tweets = pd.read_csv('Corona_NLP_train.csv', encoding='latin1')"
   ]
  },
  {
   "cell_type": "code",
   "execution_count": 70,
   "id": "a2c90ef6",
   "metadata": {},
   "outputs": [
    {
     "data": {
      "text/html": [
       "<div>\n",
       "<style scoped>\n",
       "    .dataframe tbody tr th:only-of-type {\n",
       "        vertical-align: middle;\n",
       "    }\n",
       "\n",
       "    .dataframe tbody tr th {\n",
       "        vertical-align: top;\n",
       "    }\n",
       "\n",
       "    .dataframe thead th {\n",
       "        text-align: right;\n",
       "    }\n",
       "</style>\n",
       "<table border=\"1\" class=\"dataframe\">\n",
       "  <thead>\n",
       "    <tr style=\"text-align: right;\">\n",
       "      <th></th>\n",
       "      <th>UserName</th>\n",
       "      <th>ScreenName</th>\n",
       "      <th>Location</th>\n",
       "      <th>TweetAt</th>\n",
       "      <th>OriginalTweet</th>\n",
       "      <th>Sentiment</th>\n",
       "    </tr>\n",
       "  </thead>\n",
       "  <tbody>\n",
       "    <tr>\n",
       "      <th>0</th>\n",
       "      <td>3799</td>\n",
       "      <td>48751</td>\n",
       "      <td>London</td>\n",
       "      <td>16-03-2020</td>\n",
       "      <td>@MeNyrbie @Phil_Gahan @Chrisitv https://t.co/i...</td>\n",
       "      <td>Neutral</td>\n",
       "    </tr>\n",
       "    <tr>\n",
       "      <th>1</th>\n",
       "      <td>3800</td>\n",
       "      <td>48752</td>\n",
       "      <td>UK</td>\n",
       "      <td>16-03-2020</td>\n",
       "      <td>advice Talk to your neighbours family to excha...</td>\n",
       "      <td>Positive</td>\n",
       "    </tr>\n",
       "    <tr>\n",
       "      <th>2</th>\n",
       "      <td>3801</td>\n",
       "      <td>48753</td>\n",
       "      <td>Vagabonds</td>\n",
       "      <td>16-03-2020</td>\n",
       "      <td>Coronavirus Australia: Woolworths to give elde...</td>\n",
       "      <td>Positive</td>\n",
       "    </tr>\n",
       "    <tr>\n",
       "      <th>3</th>\n",
       "      <td>3802</td>\n",
       "      <td>48754</td>\n",
       "      <td>NaN</td>\n",
       "      <td>16-03-2020</td>\n",
       "      <td>My food stock is not the only one which is emp...</td>\n",
       "      <td>Positive</td>\n",
       "    </tr>\n",
       "    <tr>\n",
       "      <th>4</th>\n",
       "      <td>3803</td>\n",
       "      <td>48755</td>\n",
       "      <td>NaN</td>\n",
       "      <td>16-03-2020</td>\n",
       "      <td>Me, ready to go at supermarket during the #COV...</td>\n",
       "      <td>Extremely Negative</td>\n",
       "    </tr>\n",
       "  </tbody>\n",
       "</table>\n",
       "</div>"
      ],
      "text/plain": [
       "   UserName  ScreenName   Location     TweetAt  \\\n",
       "0      3799       48751     London  16-03-2020   \n",
       "1      3800       48752         UK  16-03-2020   \n",
       "2      3801       48753  Vagabonds  16-03-2020   \n",
       "3      3802       48754        NaN  16-03-2020   \n",
       "4      3803       48755        NaN  16-03-2020   \n",
       "\n",
       "                                       OriginalTweet           Sentiment  \n",
       "0  @MeNyrbie @Phil_Gahan @Chrisitv https://t.co/i...             Neutral  \n",
       "1  advice Talk to your neighbours family to excha...            Positive  \n",
       "2  Coronavirus Australia: Woolworths to give elde...            Positive  \n",
       "3  My food stock is not the only one which is emp...            Positive  \n",
       "4  Me, ready to go at supermarket during the #COV...  Extremely Negative  "
      ]
     },
     "execution_count": 70,
     "metadata": {},
     "output_type": "execute_result"
    }
   ],
   "source": [
    "train_tweets.head()"
   ]
  },
  {
   "cell_type": "code",
   "execution_count": 71,
   "id": "11f1a1e4",
   "metadata": {},
   "outputs": [
    {
     "data": {
      "text/plain": [
       "(41157, 6)"
      ]
     },
     "execution_count": 71,
     "metadata": {},
     "output_type": "execute_result"
    }
   ],
   "source": [
    "train_tweets.shape"
   ]
  },
  {
   "cell_type": "code",
   "execution_count": 72,
   "id": "6dff91d1",
   "metadata": {},
   "outputs": [
    {
     "name": "stdout",
     "output_type": "stream",
     "text": [
      "<class 'pandas.core.frame.DataFrame'>\n",
      "RangeIndex: 41157 entries, 0 to 41156\n",
      "Data columns (total 6 columns):\n",
      " #   Column         Non-Null Count  Dtype \n",
      "---  ------         --------------  ----- \n",
      " 0   UserName       41157 non-null  int64 \n",
      " 1   ScreenName     41157 non-null  int64 \n",
      " 2   Location       32567 non-null  object\n",
      " 3   TweetAt        41157 non-null  object\n",
      " 4   OriginalTweet  41157 non-null  object\n",
      " 5   Sentiment      41157 non-null  object\n",
      "dtypes: int64(2), object(4)\n",
      "memory usage: 1.9+ MB\n"
     ]
    }
   ],
   "source": [
    "train_tweets.info()"
   ]
  },
  {
   "cell_type": "code",
   "execution_count": 73,
   "id": "a9564347",
   "metadata": {},
   "outputs": [
    {
     "data": {
      "text/plain": [
       "Sentiment\n",
       "Positive              11422\n",
       "Negative               9917\n",
       "Neutral                7713\n",
       "Extremely Positive     6624\n",
       "Extremely Negative     5481\n",
       "Name: count, dtype: int64"
      ]
     },
     "execution_count": 73,
     "metadata": {},
     "output_type": "execute_result"
    }
   ],
   "source": [
    "train_tweets['Sentiment'].value_counts()"
   ]
  },
  {
   "cell_type": "code",
   "execution_count": 74,
   "id": "dbd094a0",
   "metadata": {},
   "outputs": [
    {
     "data": {
      "text/plain": [
       "0"
      ]
     },
     "execution_count": 74,
     "metadata": {},
     "output_type": "execute_result"
    }
   ],
   "source": [
    "train_tweets.duplicated().sum()"
   ]
  },
  {
   "cell_type": "code",
   "execution_count": 75,
   "id": "55d1bde2",
   "metadata": {},
   "outputs": [
    {
     "data": {
      "text/plain": [
       "UserName            0\n",
       "ScreenName          0\n",
       "Location         8590\n",
       "TweetAt             0\n",
       "OriginalTweet       0\n",
       "Sentiment           0\n",
       "dtype: int64"
      ]
     },
     "execution_count": 75,
     "metadata": {},
     "output_type": "execute_result"
    }
   ],
   "source": [
    "train_tweets.isnull().sum()"
   ]
  },
  {
   "cell_type": "markdown",
   "id": "d9e6da85",
   "metadata": {},
   "source": [
    "I only need the columns OriginalTweet and Sentiment."
   ]
  },
  {
   "cell_type": "code",
   "execution_count": 76,
   "id": "bcdbcf74",
   "metadata": {},
   "outputs": [],
   "source": [
    "train_tweets = train_tweets[['OriginalTweet', 'Sentiment']]"
   ]
  },
  {
   "cell_type": "code",
   "execution_count": 77,
   "id": "c68f3d29",
   "metadata": {},
   "outputs": [
    {
     "data": {
      "text/html": [
       "<div>\n",
       "<style scoped>\n",
       "    .dataframe tbody tr th:only-of-type {\n",
       "        vertical-align: middle;\n",
       "    }\n",
       "\n",
       "    .dataframe tbody tr th {\n",
       "        vertical-align: top;\n",
       "    }\n",
       "\n",
       "    .dataframe thead th {\n",
       "        text-align: right;\n",
       "    }\n",
       "</style>\n",
       "<table border=\"1\" class=\"dataframe\">\n",
       "  <thead>\n",
       "    <tr style=\"text-align: right;\">\n",
       "      <th></th>\n",
       "      <th>OriginalTweet</th>\n",
       "      <th>Sentiment</th>\n",
       "    </tr>\n",
       "  </thead>\n",
       "  <tbody>\n",
       "    <tr>\n",
       "      <th>0</th>\n",
       "      <td>@MeNyrbie @Phil_Gahan @Chrisitv https://t.co/i...</td>\n",
       "      <td>Neutral</td>\n",
       "    </tr>\n",
       "    <tr>\n",
       "      <th>1</th>\n",
       "      <td>advice Talk to your neighbours family to excha...</td>\n",
       "      <td>Positive</td>\n",
       "    </tr>\n",
       "    <tr>\n",
       "      <th>2</th>\n",
       "      <td>Coronavirus Australia: Woolworths to give elde...</td>\n",
       "      <td>Positive</td>\n",
       "    </tr>\n",
       "    <tr>\n",
       "      <th>3</th>\n",
       "      <td>My food stock is not the only one which is emp...</td>\n",
       "      <td>Positive</td>\n",
       "    </tr>\n",
       "    <tr>\n",
       "      <th>4</th>\n",
       "      <td>Me, ready to go at supermarket during the #COV...</td>\n",
       "      <td>Extremely Negative</td>\n",
       "    </tr>\n",
       "  </tbody>\n",
       "</table>\n",
       "</div>"
      ],
      "text/plain": [
       "                                       OriginalTweet           Sentiment\n",
       "0  @MeNyrbie @Phil_Gahan @Chrisitv https://t.co/i...             Neutral\n",
       "1  advice Talk to your neighbours family to excha...            Positive\n",
       "2  Coronavirus Australia: Woolworths to give elde...            Positive\n",
       "3  My food stock is not the only one which is emp...            Positive\n",
       "4  Me, ready to go at supermarket during the #COV...  Extremely Negative"
      ]
     },
     "execution_count": 77,
     "metadata": {},
     "output_type": "execute_result"
    }
   ],
   "source": [
    "train_tweets.head()"
   ]
  },
  {
   "cell_type": "markdown",
   "id": "7333e0de",
   "metadata": {},
   "source": [
    "# Read test csv"
   ]
  },
  {
   "cell_type": "code",
   "execution_count": 78,
   "id": "1ba2371a",
   "metadata": {},
   "outputs": [],
   "source": [
    "test_tweets = pd.read_csv('Corona_NLP_test.csv', encoding='latin1')"
   ]
  },
  {
   "cell_type": "code",
   "execution_count": 79,
   "id": "1a967426",
   "metadata": {},
   "outputs": [
    {
     "data": {
      "text/html": [
       "<div>\n",
       "<style scoped>\n",
       "    .dataframe tbody tr th:only-of-type {\n",
       "        vertical-align: middle;\n",
       "    }\n",
       "\n",
       "    .dataframe tbody tr th {\n",
       "        vertical-align: top;\n",
       "    }\n",
       "\n",
       "    .dataframe thead th {\n",
       "        text-align: right;\n",
       "    }\n",
       "</style>\n",
       "<table border=\"1\" class=\"dataframe\">\n",
       "  <thead>\n",
       "    <tr style=\"text-align: right;\">\n",
       "      <th></th>\n",
       "      <th>UserName</th>\n",
       "      <th>ScreenName</th>\n",
       "      <th>Location</th>\n",
       "      <th>TweetAt</th>\n",
       "      <th>OriginalTweet</th>\n",
       "      <th>Sentiment</th>\n",
       "    </tr>\n",
       "  </thead>\n",
       "  <tbody>\n",
       "    <tr>\n",
       "      <th>0</th>\n",
       "      <td>1</td>\n",
       "      <td>44953</td>\n",
       "      <td>NYC</td>\n",
       "      <td>02-03-2020</td>\n",
       "      <td>TRENDING: New Yorkers encounter empty supermar...</td>\n",
       "      <td>Extremely Negative</td>\n",
       "    </tr>\n",
       "    <tr>\n",
       "      <th>1</th>\n",
       "      <td>2</td>\n",
       "      <td>44954</td>\n",
       "      <td>Seattle, WA</td>\n",
       "      <td>02-03-2020</td>\n",
       "      <td>When I couldn't find hand sanitizer at Fred Me...</td>\n",
       "      <td>Positive</td>\n",
       "    </tr>\n",
       "    <tr>\n",
       "      <th>2</th>\n",
       "      <td>3</td>\n",
       "      <td>44955</td>\n",
       "      <td>NaN</td>\n",
       "      <td>02-03-2020</td>\n",
       "      <td>Find out how you can protect yourself and love...</td>\n",
       "      <td>Extremely Positive</td>\n",
       "    </tr>\n",
       "    <tr>\n",
       "      <th>3</th>\n",
       "      <td>4</td>\n",
       "      <td>44956</td>\n",
       "      <td>Chicagoland</td>\n",
       "      <td>02-03-2020</td>\n",
       "      <td>#Panic buying hits #NewYork City as anxious sh...</td>\n",
       "      <td>Negative</td>\n",
       "    </tr>\n",
       "    <tr>\n",
       "      <th>4</th>\n",
       "      <td>5</td>\n",
       "      <td>44957</td>\n",
       "      <td>Melbourne, Victoria</td>\n",
       "      <td>03-03-2020</td>\n",
       "      <td>#toiletpaper #dunnypaper #coronavirus #coronav...</td>\n",
       "      <td>Neutral</td>\n",
       "    </tr>\n",
       "  </tbody>\n",
       "</table>\n",
       "</div>"
      ],
      "text/plain": [
       "   UserName  ScreenName             Location     TweetAt  \\\n",
       "0         1       44953                  NYC  02-03-2020   \n",
       "1         2       44954          Seattle, WA  02-03-2020   \n",
       "2         3       44955                  NaN  02-03-2020   \n",
       "3         4       44956          Chicagoland  02-03-2020   \n",
       "4         5       44957  Melbourne, Victoria  03-03-2020   \n",
       "\n",
       "                                       OriginalTweet           Sentiment  \n",
       "0  TRENDING: New Yorkers encounter empty supermar...  Extremely Negative  \n",
       "1  When I couldn't find hand sanitizer at Fred Me...            Positive  \n",
       "2  Find out how you can protect yourself and love...  Extremely Positive  \n",
       "3  #Panic buying hits #NewYork City as anxious sh...            Negative  \n",
       "4  #toiletpaper #dunnypaper #coronavirus #coronav...             Neutral  "
      ]
     },
     "execution_count": 79,
     "metadata": {},
     "output_type": "execute_result"
    }
   ],
   "source": [
    "test_tweets.head()"
   ]
  },
  {
   "cell_type": "code",
   "execution_count": 80,
   "id": "948d5d00",
   "metadata": {},
   "outputs": [],
   "source": [
    "test_tweets = test_tweets[['OriginalTweet', 'Sentiment']]"
   ]
  },
  {
   "cell_type": "code",
   "execution_count": 81,
   "id": "a0df29ee",
   "metadata": {},
   "outputs": [
    {
     "data": {
      "text/html": [
       "<div>\n",
       "<style scoped>\n",
       "    .dataframe tbody tr th:only-of-type {\n",
       "        vertical-align: middle;\n",
       "    }\n",
       "\n",
       "    .dataframe tbody tr th {\n",
       "        vertical-align: top;\n",
       "    }\n",
       "\n",
       "    .dataframe thead th {\n",
       "        text-align: right;\n",
       "    }\n",
       "</style>\n",
       "<table border=\"1\" class=\"dataframe\">\n",
       "  <thead>\n",
       "    <tr style=\"text-align: right;\">\n",
       "      <th></th>\n",
       "      <th>OriginalTweet</th>\n",
       "      <th>Sentiment</th>\n",
       "    </tr>\n",
       "  </thead>\n",
       "  <tbody>\n",
       "    <tr>\n",
       "      <th>0</th>\n",
       "      <td>TRENDING: New Yorkers encounter empty supermar...</td>\n",
       "      <td>Extremely Negative</td>\n",
       "    </tr>\n",
       "    <tr>\n",
       "      <th>1</th>\n",
       "      <td>When I couldn't find hand sanitizer at Fred Me...</td>\n",
       "      <td>Positive</td>\n",
       "    </tr>\n",
       "    <tr>\n",
       "      <th>2</th>\n",
       "      <td>Find out how you can protect yourself and love...</td>\n",
       "      <td>Extremely Positive</td>\n",
       "    </tr>\n",
       "    <tr>\n",
       "      <th>3</th>\n",
       "      <td>#Panic buying hits #NewYork City as anxious sh...</td>\n",
       "      <td>Negative</td>\n",
       "    </tr>\n",
       "    <tr>\n",
       "      <th>4</th>\n",
       "      <td>#toiletpaper #dunnypaper #coronavirus #coronav...</td>\n",
       "      <td>Neutral</td>\n",
       "    </tr>\n",
       "  </tbody>\n",
       "</table>\n",
       "</div>"
      ],
      "text/plain": [
       "                                       OriginalTweet           Sentiment\n",
       "0  TRENDING: New Yorkers encounter empty supermar...  Extremely Negative\n",
       "1  When I couldn't find hand sanitizer at Fred Me...            Positive\n",
       "2  Find out how you can protect yourself and love...  Extremely Positive\n",
       "3  #Panic buying hits #NewYork City as anxious sh...            Negative\n",
       "4  #toiletpaper #dunnypaper #coronavirus #coronav...             Neutral"
      ]
     },
     "execution_count": 81,
     "metadata": {},
     "output_type": "execute_result"
    }
   ],
   "source": [
    "test_tweets.head()"
   ]
  },
  {
   "cell_type": "code",
   "execution_count": 82,
   "id": "30becb9a",
   "metadata": {},
   "outputs": [
    {
     "name": "stdout",
     "output_type": "stream",
     "text": [
      "<class 'pandas.core.frame.DataFrame'>\n",
      "RangeIndex: 3798 entries, 0 to 3797\n",
      "Data columns (total 2 columns):\n",
      " #   Column         Non-Null Count  Dtype \n",
      "---  ------         --------------  ----- \n",
      " 0   OriginalTweet  3798 non-null   object\n",
      " 1   Sentiment      3798 non-null   object\n",
      "dtypes: object(2)\n",
      "memory usage: 59.5+ KB\n"
     ]
    }
   ],
   "source": [
    "test_tweets.info()"
   ]
  },
  {
   "cell_type": "markdown",
   "id": "92a5ce20",
   "metadata": {},
   "source": [
    "We often meet special characters, links and alphanumeric words.  \n",
    "\n",
    "Special characteres like '@' or '#' are common in such datasets because of users' tags and hash-tags. \n",
    "\n",
    "These have to be excluded."
   ]
  },
  {
   "cell_type": "markdown",
   "id": "3502a5c9",
   "metadata": {},
   "source": [
    "# Preprocess"
   ]
  },
  {
   "cell_type": "markdown",
   "id": "2d8b97d1",
   "metadata": {},
   "source": [
    "## Remove URLs, mentions, hashtags, emojis --> using Regex"
   ]
  },
  {
   "cell_type": "markdown",
   "id": "e4e30058",
   "metadata": {},
   "source": [
    "### train set"
   ]
  },
  {
   "cell_type": "code",
   "execution_count": 83,
   "id": "03990fde",
   "metadata": {},
   "outputs": [],
   "source": [
    "# Remove links\n",
    "train_tweets['cleaned'] = train_tweets['OriginalTweet'].str.replace(\n",
    "    r'(https?:\\/\\/)?([\\da-z\\.-]+)\\.([a-z\\.]{2,6})([\\/\\w \\.-]*)', '', regex=True\n",
    ")\n",
    "#https?: Matches http or https (the ? makes the s optional)\n",
    "#:\\/\\/: Escapes the :// in URLs \n",
    "#([\\da-z\\.-]+): Matches the domain (e.g., \"google\", \"nytimes\")\n",
    "#\\d = digits, a-z = lowercase letters, . and - = dot and dash\n",
    "#\\.([a-z\\.]{2,6}): Matches the top-level domain like .com, .org, etc.\n",
    "#([\\/\\w \\.-]*): Matches the rest of the URL path (/abc/xyz, etc.)\n",
    "#/\\w \\.- = slashes, letters/numbers, dots, spaces, hyphens\n",
    "\n",
    "\n",
    "# Remove words starting with @ (mentions)\n",
    "train_tweets['cleaned'] = train_tweets['cleaned'].str.replace(\n",
    "    r'@\\w+', '', regex=True\n",
    ")\n",
    "#@: Matches the @ symbol\n",
    "#\\w+: Matches one or more \"word characters\" (letters, digits, or underscores)\n",
    "\n",
    "\n",
    "# Remove words starting with # (hashtags)\n",
    "train_tweets['cleaned'] = train_tweets['cleaned'].str.replace(\n",
    "    r'#\\w+', '', regex=True\n",
    ")\n",
    "##: Matches the hash symbol\n",
    "#\\w+: Again, matches word characters following it\n",
    "\n",
    "# Substituting multiple spaces with single space\n",
    "train_tweets['cleaned'] = train_tweets['cleaned'].str.replace(\n",
    "    r'\\s+', ' ', regex=True\n",
    ")\n",
    "#\\s: Matches any whitespace character (spaces, tabs, newlines)\n",
    "#+: Means \"one or more\"\n",
    "\n",
    "\n",
    "# Keep only alphabetical words (remove punctuation, alphanumerics, etc.)\n",
    "train_tweets['cleaned'] = train_tweets['cleaned'].str.replace(\n",
    "    r'[^\\w\\s]', '', regex=True\n",
    ")\n",
    "#[]: Denotes a character set\n",
    "#^: When inside a set, it means \"not\"\n",
    "#\\w: Word characters (letters, digits, underscore)\n",
    "#\\s: Whitespace characters\n",
    "\n"
   ]
  },
  {
   "cell_type": "code",
   "execution_count": 84,
   "id": "87eb84d4",
   "metadata": {},
   "outputs": [
    {
     "data": {
      "text/html": [
       "<div>\n",
       "<style scoped>\n",
       "    .dataframe tbody tr th:only-of-type {\n",
       "        vertical-align: middle;\n",
       "    }\n",
       "\n",
       "    .dataframe tbody tr th {\n",
       "        vertical-align: top;\n",
       "    }\n",
       "\n",
       "    .dataframe thead th {\n",
       "        text-align: right;\n",
       "    }\n",
       "</style>\n",
       "<table border=\"1\" class=\"dataframe\">\n",
       "  <thead>\n",
       "    <tr style=\"text-align: right;\">\n",
       "      <th></th>\n",
       "      <th>OriginalTweet</th>\n",
       "      <th>Sentiment</th>\n",
       "      <th>cleaned</th>\n",
       "    </tr>\n",
       "  </thead>\n",
       "  <tbody>\n",
       "    <tr>\n",
       "      <th>0</th>\n",
       "      <td>@MeNyrbie @Phil_Gahan @Chrisitv https://t.co/i...</td>\n",
       "      <td>Neutral</td>\n",
       "      <td></td>\n",
       "    </tr>\n",
       "    <tr>\n",
       "      <th>1</th>\n",
       "      <td>advice Talk to your neighbours family to excha...</td>\n",
       "      <td>Positive</td>\n",
       "      <td>advice Talk to your neighbours family to excha...</td>\n",
       "    </tr>\n",
       "    <tr>\n",
       "      <th>2</th>\n",
       "      <td>Coronavirus Australia: Woolworths to give elde...</td>\n",
       "      <td>Positive</td>\n",
       "      <td>Coronavirus Australia Woolworths to give elder...</td>\n",
       "    </tr>\n",
       "    <tr>\n",
       "      <th>3</th>\n",
       "      <td>My food stock is not the only one which is emp...</td>\n",
       "      <td>Positive</td>\n",
       "      <td>My food stock is not the only one which is PLE...</td>\n",
       "    </tr>\n",
       "    <tr>\n",
       "      <th>4</th>\n",
       "      <td>Me, ready to go at supermarket during the #COV...</td>\n",
       "      <td>Extremely Negative</td>\n",
       "      <td>Me ready to go at supermarket during the outbr...</td>\n",
       "    </tr>\n",
       "    <tr>\n",
       "      <th>5</th>\n",
       "      <td>As news of the regionÂs first confirmed COVID...</td>\n",
       "      <td>Positive</td>\n",
       "      <td>As news of the regionÂs first confirmed COVID1...</td>\n",
       "    </tr>\n",
       "    <tr>\n",
       "      <th>6</th>\n",
       "      <td>Cashier at grocery store was sharing his insig...</td>\n",
       "      <td>Positive</td>\n",
       "      <td>Cashier at grocery store was sharing his insig...</td>\n",
       "    </tr>\n",
       "    <tr>\n",
       "      <th>7</th>\n",
       "      <td>Was at the supermarket today. Didn't buy toile...</td>\n",
       "      <td>Neutral</td>\n",
       "      <td>Was at the supermarket today Didnt buy toilet ...</td>\n",
       "    </tr>\n",
       "    <tr>\n",
       "      <th>8</th>\n",
       "      <td>Due to COVID-19 our retail store and classroom...</td>\n",
       "      <td>Positive</td>\n",
       "      <td>Due to COVID19 our retail store and classroom ...</td>\n",
       "    </tr>\n",
       "    <tr>\n",
       "      <th>9</th>\n",
       "      <td>For corona prevention,we should stop to buy th...</td>\n",
       "      <td>Negative</td>\n",
       "      <td>For corona preventionwe should stop to buy thi...</td>\n",
       "    </tr>\n",
       "  </tbody>\n",
       "</table>\n",
       "</div>"
      ],
      "text/plain": [
       "                                       OriginalTweet           Sentiment  \\\n",
       "0  @MeNyrbie @Phil_Gahan @Chrisitv https://t.co/i...             Neutral   \n",
       "1  advice Talk to your neighbours family to excha...            Positive   \n",
       "2  Coronavirus Australia: Woolworths to give elde...            Positive   \n",
       "3  My food stock is not the only one which is emp...            Positive   \n",
       "4  Me, ready to go at supermarket during the #COV...  Extremely Negative   \n",
       "5  As news of the regionÂs first confirmed COVID...            Positive   \n",
       "6  Cashier at grocery store was sharing his insig...            Positive   \n",
       "7  Was at the supermarket today. Didn't buy toile...             Neutral   \n",
       "8  Due to COVID-19 our retail store and classroom...            Positive   \n",
       "9  For corona prevention,we should stop to buy th...            Negative   \n",
       "\n",
       "                                             cleaned  \n",
       "0                                                     \n",
       "1  advice Talk to your neighbours family to excha...  \n",
       "2  Coronavirus Australia Woolworths to give elder...  \n",
       "3  My food stock is not the only one which is PLE...  \n",
       "4  Me ready to go at supermarket during the outbr...  \n",
       "5  As news of the regionÂs first confirmed COVID1...  \n",
       "6  Cashier at grocery store was sharing his insig...  \n",
       "7  Was at the supermarket today Didnt buy toilet ...  \n",
       "8  Due to COVID19 our retail store and classroom ...  \n",
       "9  For corona preventionwe should stop to buy thi...  "
      ]
     },
     "execution_count": 84,
     "metadata": {},
     "output_type": "execute_result"
    }
   ],
   "source": [
    "train_tweets.head(10)"
   ]
  },
  {
   "cell_type": "markdown",
   "id": "b234ee3e",
   "metadata": {},
   "source": [
    "### test set"
   ]
  },
  {
   "cell_type": "code",
   "execution_count": 85,
   "id": "4b7774b8",
   "metadata": {},
   "outputs": [],
   "source": [
    "# Remove links\n",
    "test_tweets['cleaned'] = test_tweets['OriginalTweet'].str.replace(\n",
    "    r'(https?:\\/\\/)?([\\da-z\\.-]+)\\.([a-z\\.]{2,6})([\\/\\w \\.-]*)', '', regex=True\n",
    ")\n",
    "#https?: Matches http or https (the ? makes the s optional)\n",
    "#:\\/\\/: Escapes the :// in URLs \n",
    "#([\\da-z\\.-]+): Matches the domain (e.g., \"google\", \"nytimes\")\n",
    "#\\d = digits, a-z = lowercase letters, . and - = dot and dash\n",
    "#\\.([a-z\\.]{2,6}): Matches the top-level domain like .com, .org, etc.\n",
    "#([\\/\\w \\.-]*): Matches the rest of the URL path (/abc/xyz, etc.)\n",
    "#/\\w \\.- = slashes, letters/numbers, dots, spaces, hyphens\n",
    "\n",
    "\n",
    "# Remove words starting with @ (mentions)\n",
    "test_tweets['cleaned'] = test_tweets['cleaned'].str.replace(\n",
    "    r'@\\w+', '', regex=True\n",
    ")\n",
    "#@: Matches the @ symbol\n",
    "#\\w+: Matches one or more \"word characters\" (letters, digits, or underscores)\n",
    "\n",
    "\n",
    "# Remove words starting with # (hashtags)\n",
    "test_tweets['cleaned'] = test_tweets['cleaned'].str.replace(\n",
    "    r'#\\w+', '', regex=True\n",
    ")\n",
    "##: Matches the hash symbol\n",
    "#\\w+: Again, matches word characters following it\n",
    "\n",
    "# Substituting multiple spaces with single space\n",
    "test_tweets['cleaned'] = test_tweets['cleaned'].str.replace(\n",
    "    r'\\s+', ' ', regex=True\n",
    ")\n",
    "#\\s: Matches any whitespace character (spaces, tabs, newlines)\n",
    "#+: Means \"one or more\"\n",
    "\n",
    "\n",
    "# Keep only alphabetical words (remove punctuation, alphanumerics, etc.)\n",
    "test_tweets['cleaned'] = test_tweets['cleaned'].str.replace(\n",
    "    r'[^\\w\\s]', '', regex=True\n",
    ")\n",
    "#[]: Denotes a character set\n",
    "#^: When inside a set, it means \"not\"\n",
    "#\\w: Word characters (letters, digits, underscore)\n",
    "#\\s: Whitespace characters\n"
   ]
  },
  {
   "cell_type": "code",
   "execution_count": 86,
   "id": "677c03d5",
   "metadata": {},
   "outputs": [
    {
     "data": {
      "text/html": [
       "<div>\n",
       "<style scoped>\n",
       "    .dataframe tbody tr th:only-of-type {\n",
       "        vertical-align: middle;\n",
       "    }\n",
       "\n",
       "    .dataframe tbody tr th {\n",
       "        vertical-align: top;\n",
       "    }\n",
       "\n",
       "    .dataframe thead th {\n",
       "        text-align: right;\n",
       "    }\n",
       "</style>\n",
       "<table border=\"1\" class=\"dataframe\">\n",
       "  <thead>\n",
       "    <tr style=\"text-align: right;\">\n",
       "      <th></th>\n",
       "      <th>OriginalTweet</th>\n",
       "      <th>Sentiment</th>\n",
       "      <th>cleaned</th>\n",
       "    </tr>\n",
       "  </thead>\n",
       "  <tbody>\n",
       "    <tr>\n",
       "      <th>0</th>\n",
       "      <td>TRENDING: New Yorkers encounter empty supermar...</td>\n",
       "      <td>Extremely Negative</td>\n",
       "      <td>TRENDING New Yorkers encounter empty supermark...</td>\n",
       "    </tr>\n",
       "    <tr>\n",
       "      <th>1</th>\n",
       "      <td>When I couldn't find hand sanitizer at Fred Me...</td>\n",
       "      <td>Positive</td>\n",
       "      <td>When I couldnt find hand sanitizer at Fred Mey...</td>\n",
       "    </tr>\n",
       "    <tr>\n",
       "      <th>2</th>\n",
       "      <td>Find out how you can protect yourself and love...</td>\n",
       "      <td>Extremely Positive</td>\n",
       "      <td>Find out how you can protect yourself and love...</td>\n",
       "    </tr>\n",
       "    <tr>\n",
       "      <th>3</th>\n",
       "      <td>#Panic buying hits #NewYork City as anxious sh...</td>\n",
       "      <td>Negative</td>\n",
       "      <td>buying hits City as anxious shoppers stock up...</td>\n",
       "    </tr>\n",
       "    <tr>\n",
       "      <th>4</th>\n",
       "      <td>#toiletpaper #dunnypaper #coronavirus #coronav...</td>\n",
       "      <td>Neutral</td>\n",
       "      <td>One week everyone buying baby milk powder the...</td>\n",
       "    </tr>\n",
       "    <tr>\n",
       "      <th>5</th>\n",
       "      <td>Do you remember the last time you paid $2.99 a...</td>\n",
       "      <td>Neutral</td>\n",
       "      <td>Do you remember the last time you paid 299 a g...</td>\n",
       "    </tr>\n",
       "    <tr>\n",
       "      <th>6</th>\n",
       "      <td>Voting in the age of #coronavirus = hand sanit...</td>\n",
       "      <td>Positive</td>\n",
       "      <td>Voting in the age of  hand sanitizer</td>\n",
       "    </tr>\n",
       "    <tr>\n",
       "      <th>7</th>\n",
       "      <td>@DrTedros \"We canÂt stop #COVID19 without pro...</td>\n",
       "      <td>Neutral</td>\n",
       "      <td>We canÂt stop without protecting  Prices of s...</td>\n",
       "    </tr>\n",
       "    <tr>\n",
       "      <th>8</th>\n",
       "      <td>HI TWITTER! I am a pharmacist. I sell hand san...</td>\n",
       "      <td>Extremely Negative</td>\n",
       "      <td>HI TWITTER I am a pharmacist I sell hand sanit...</td>\n",
       "    </tr>\n",
       "    <tr>\n",
       "      <th>9</th>\n",
       "      <td>Anyone been in a supermarket over the last few...</td>\n",
       "      <td>Extremely Positive</td>\n",
       "      <td>Anyone been in a supermarket over the last few...</td>\n",
       "    </tr>\n",
       "  </tbody>\n",
       "</table>\n",
       "</div>"
      ],
      "text/plain": [
       "                                       OriginalTweet           Sentiment  \\\n",
       "0  TRENDING: New Yorkers encounter empty supermar...  Extremely Negative   \n",
       "1  When I couldn't find hand sanitizer at Fred Me...            Positive   \n",
       "2  Find out how you can protect yourself and love...  Extremely Positive   \n",
       "3  #Panic buying hits #NewYork City as anxious sh...            Negative   \n",
       "4  #toiletpaper #dunnypaper #coronavirus #coronav...             Neutral   \n",
       "5  Do you remember the last time you paid $2.99 a...             Neutral   \n",
       "6  Voting in the age of #coronavirus = hand sanit...            Positive   \n",
       "7  @DrTedros \"We canÂt stop #COVID19 without pro...             Neutral   \n",
       "8  HI TWITTER! I am a pharmacist. I sell hand san...  Extremely Negative   \n",
       "9  Anyone been in a supermarket over the last few...  Extremely Positive   \n",
       "\n",
       "                                             cleaned  \n",
       "0  TRENDING New Yorkers encounter empty supermark...  \n",
       "1  When I couldnt find hand sanitizer at Fred Mey...  \n",
       "2  Find out how you can protect yourself and love...  \n",
       "3   buying hits City as anxious shoppers stock up...  \n",
       "4   One week everyone buying baby milk powder the...  \n",
       "5  Do you remember the last time you paid 299 a g...  \n",
       "6             Voting in the age of  hand sanitizer    \n",
       "7   We canÂt stop without protecting  Prices of s...  \n",
       "8  HI TWITTER I am a pharmacist I sell hand sanit...  \n",
       "9  Anyone been in a supermarket over the last few...  "
      ]
     },
     "execution_count": 86,
     "metadata": {},
     "output_type": "execute_result"
    }
   ],
   "source": [
    "test_tweets.head(10)"
   ]
  },
  {
   "cell_type": "markdown",
   "id": "a2857f2d",
   "metadata": {},
   "source": [
    "Stop words are words which are filtered out before or after processing of natural language data (such as “the”, “a”, “an”, “in”) . "
   ]
  },
  {
   "cell_type": "code",
   "execution_count": 87,
   "id": "6d643621",
   "metadata": {},
   "outputs": [],
   "source": [
    "stop_words = stopwords.words(\"english\")"
   ]
  },
  {
   "cell_type": "code",
   "execution_count": 88,
   "id": "cffcd641",
   "metadata": {},
   "outputs": [
    {
     "data": {
      "text/plain": [
       "['i',\n",
       " 'me',\n",
       " 'my',\n",
       " 'myself',\n",
       " 'we',\n",
       " 'our',\n",
       " 'ours',\n",
       " 'ourselves',\n",
       " 'you',\n",
       " \"you're\",\n",
       " \"you've\",\n",
       " \"you'll\",\n",
       " \"you'd\",\n",
       " 'your',\n",
       " 'yours',\n",
       " 'yourself',\n",
       " 'yourselves',\n",
       " 'he',\n",
       " 'him',\n",
       " 'his',\n",
       " 'himself',\n",
       " 'she',\n",
       " \"she's\",\n",
       " 'her',\n",
       " 'hers',\n",
       " 'herself',\n",
       " 'it',\n",
       " \"it's\",\n",
       " 'its',\n",
       " 'itself',\n",
       " 'they',\n",
       " 'them',\n",
       " 'their',\n",
       " 'theirs',\n",
       " 'themselves',\n",
       " 'what',\n",
       " 'which',\n",
       " 'who',\n",
       " 'whom',\n",
       " 'this',\n",
       " 'that',\n",
       " \"that'll\",\n",
       " 'these',\n",
       " 'those',\n",
       " 'am',\n",
       " 'is',\n",
       " 'are',\n",
       " 'was',\n",
       " 'were',\n",
       " 'be',\n",
       " 'been',\n",
       " 'being',\n",
       " 'have',\n",
       " 'has',\n",
       " 'had',\n",
       " 'having',\n",
       " 'do',\n",
       " 'does',\n",
       " 'did',\n",
       " 'doing',\n",
       " 'a',\n",
       " 'an',\n",
       " 'the',\n",
       " 'and',\n",
       " 'but',\n",
       " 'if',\n",
       " 'or',\n",
       " 'because',\n",
       " 'as',\n",
       " 'until',\n",
       " 'while',\n",
       " 'of',\n",
       " 'at',\n",
       " 'by',\n",
       " 'for',\n",
       " 'with',\n",
       " 'about',\n",
       " 'against',\n",
       " 'between',\n",
       " 'into',\n",
       " 'through',\n",
       " 'during',\n",
       " 'before',\n",
       " 'after',\n",
       " 'above',\n",
       " 'below',\n",
       " 'to',\n",
       " 'from',\n",
       " 'up',\n",
       " 'down',\n",
       " 'in',\n",
       " 'out',\n",
       " 'on',\n",
       " 'off',\n",
       " 'over',\n",
       " 'under',\n",
       " 'again',\n",
       " 'further',\n",
       " 'then',\n",
       " 'once',\n",
       " 'here',\n",
       " 'there',\n",
       " 'when',\n",
       " 'where',\n",
       " 'why',\n",
       " 'how',\n",
       " 'all',\n",
       " 'any',\n",
       " 'both',\n",
       " 'each',\n",
       " 'few',\n",
       " 'more',\n",
       " 'most',\n",
       " 'other',\n",
       " 'some',\n",
       " 'such',\n",
       " 'no',\n",
       " 'nor',\n",
       " 'not',\n",
       " 'only',\n",
       " 'own',\n",
       " 'same',\n",
       " 'so',\n",
       " 'than',\n",
       " 'too',\n",
       " 'very',\n",
       " 's',\n",
       " 't',\n",
       " 'can',\n",
       " 'will',\n",
       " 'just',\n",
       " 'don',\n",
       " \"don't\",\n",
       " 'should',\n",
       " \"should've\",\n",
       " 'now',\n",
       " 'd',\n",
       " 'll',\n",
       " 'm',\n",
       " 'o',\n",
       " 're',\n",
       " 've',\n",
       " 'y',\n",
       " 'ain',\n",
       " 'aren',\n",
       " \"aren't\",\n",
       " 'couldn',\n",
       " \"couldn't\",\n",
       " 'didn',\n",
       " \"didn't\",\n",
       " 'doesn',\n",
       " \"doesn't\",\n",
       " 'hadn',\n",
       " \"hadn't\",\n",
       " 'hasn',\n",
       " \"hasn't\",\n",
       " 'haven',\n",
       " \"haven't\",\n",
       " 'isn',\n",
       " \"isn't\",\n",
       " 'ma',\n",
       " 'mightn',\n",
       " \"mightn't\",\n",
       " 'mustn',\n",
       " \"mustn't\",\n",
       " 'needn',\n",
       " \"needn't\",\n",
       " 'shan',\n",
       " \"shan't\",\n",
       " 'shouldn',\n",
       " \"shouldn't\",\n",
       " 'wasn',\n",
       " \"wasn't\",\n",
       " 'weren',\n",
       " \"weren't\",\n",
       " 'won',\n",
       " \"won't\",\n",
       " 'wouldn',\n",
       " \"wouldn't\"]"
      ]
     },
     "execution_count": 88,
     "metadata": {},
     "output_type": "execute_result"
    }
   ],
   "source": [
    "stop_words"
   ]
  },
  {
   "cell_type": "markdown",
   "id": "0109eaa7",
   "metadata": {},
   "source": [
    "# Text Normalization"
   ]
  },
  {
   "cell_type": "markdown",
   "id": "e7e0d1e8",
   "metadata": {},
   "source": [
    "Here we have two methods, lemmatization and stemming. Their goal is to reduce words to a base/root form so that variations of a word are treated the same during analysis. \n",
    "\n",
    "In my case I will choose lemmatization because:\n",
    "\n",
    "- Preserves word meaning (e.g. \"better\" → \"good\", \"running\" → \"run\")\n",
    "\n",
    "- Respects part of speech, which matters for sentiment\n",
    "\n",
    "- Keeps the sentence semantically intact\n",
    "\n",
    "Stemmers are more aggresive and thus lemmatizers are prefered.\n",
    "\n",
    "NLTL provides us different lemmatizers and stemmers to handle such task. We will use WordNetLemmatizer."
   ]
  },
  {
   "cell_type": "markdown",
   "id": "c4e62cb5",
   "metadata": {},
   "source": [
    "## Lemmatization"
   ]
  },
  {
   "cell_type": "code",
   "execution_count": 89,
   "id": "d19a7a23",
   "metadata": {},
   "outputs": [],
   "source": [
    "lemmatizer = WordNetLemmatizer()"
   ]
  },
  {
   "cell_type": "code",
   "execution_count": 90,
   "id": "1e337b5f",
   "metadata": {},
   "outputs": [],
   "source": [
    "# for each cell, we split the words in  a list of words, and if this word is not in stopwords we lemmatize it. \n",
    "# Then the list of words is again concatenated as a sentence and lower case is applied.\n",
    "train_tweets['cleaned'] = train_tweets['cleaned'].apply(lambda x: \" \".join([lemmatizer.lemmatize(i) \\\n",
    "                                                            for i in re.sub(\"[^a-zA-Z]\", \" \",\\\n",
    "                                                                          str(x)).split() if i not in stop_words]).lower())"
   ]
  },
  {
   "cell_type": "code",
   "execution_count": 91,
   "id": "d032a673",
   "metadata": {},
   "outputs": [
    {
     "data": {
      "text/plain": [
       "(41157, 3)"
      ]
     },
     "execution_count": 91,
     "metadata": {},
     "output_type": "execute_result"
    }
   ],
   "source": [
    "train_tweets.shape"
   ]
  },
  {
   "cell_type": "code",
   "execution_count": 92,
   "id": "18a92f70",
   "metadata": {},
   "outputs": [
    {
     "data": {
      "text/plain": [
       "'cashier grocery store sharing insight to prove credibility commented im civics class i know im talking'"
      ]
     },
     "execution_count": 92,
     "metadata": {},
     "output_type": "execute_result"
    }
   ],
   "source": [
    "#example of a cleaned tweet\n",
    "train_tweets['cleaned'][6]"
   ]
  },
  {
   "cell_type": "code",
   "execution_count": 93,
   "id": "30a12830",
   "metadata": {},
   "outputs": [],
   "source": [
    "\n",
    "test_tweets['cleaned'] = test_tweets['cleaned'].apply(lambda x: \" \".join([lemmatizer.lemmatize(i) \\\n",
    "                                                            for i in re.sub(\"[^a-zA-Z]\", \" \",\\\n",
    "                                                                          str(x)).split() if i not in stop_words]).lower())\n"
   ]
  },
  {
   "cell_type": "markdown",
   "id": "c77d2406",
   "metadata": {},
   "source": [
    "### POS tagging\n",
    "\n",
    "Lemmatizers need to know the role of a word in a sentence to convert it to the correct base form.\n",
    "\n",
    "By default, most lemmatizers (like NLTK’s WordNetLemmatizer) assume the word is a noun unless told otherwise.\n",
    "\n",
    "POS tagging tells the lemmatizer the correct \"type\" of word, so it can choose the right lemma."
   ]
  },
  {
   "cell_type": "code",
   "execution_count": 94,
   "id": "6057b63a",
   "metadata": {},
   "outputs": [
    {
     "data": {
      "text/plain": [
       "[('cashier', 'NN'),\n",
       " ('grocery', 'NN'),\n",
       " ('store', 'NN'),\n",
       " ('sharing', 'VBG'),\n",
       " ('insight', 'NN'),\n",
       " ('to', 'TO'),\n",
       " ('prove', 'VB'),\n",
       " ('credibility', 'NN'),\n",
       " ('commented', 'VBN'),\n",
       " ('im', 'JJ'),\n",
       " ('civics', 'NNS'),\n",
       " ('class', 'NN'),\n",
       " ('i', 'NN'),\n",
       " ('know', 'VBP'),\n",
       " ('im', 'NN'),\n",
       " ('talking', 'VBG')]"
      ]
     },
     "execution_count": 94,
     "metadata": {},
     "output_type": "execute_result"
    }
   ],
   "source": [
    "#we turn words in tokens and apply Part of Speech Tagging\n",
    "train_tweets['cleaned'] = train_tweets['cleaned'].apply(word_tokenize).apply(pos_tag)\n",
    "train_tweets['cleaned'][6]"
   ]
  },
  {
   "cell_type": "code",
   "execution_count": 95,
   "id": "6a584618",
   "metadata": {},
   "outputs": [],
   "source": [
    "test_tweets['cleaned'] = test_tweets['cleaned'].apply(word_tokenize).apply(pos_tag)"
   ]
  },
  {
   "cell_type": "markdown",
   "id": "72e608e5",
   "metadata": {},
   "source": [
    "According to theory not all part of speech are importan to sentiment analysis. \n",
    "\n",
    "There is no universal guidance what we should keep and what not but as a rule of thump from linguistics nouns , adjectives and adverbs include the most meaningfull information on sentiment analysis.\n",
    "\n",
    "We will create a function to filter only tokens of our interest regarding their POS classification."
   ]
  },
  {
   "cell_type": "code",
   "execution_count": 96,
   "id": "54971625",
   "metadata": {},
   "outputs": [],
   "source": [
    "tag_filter = [\"NN\",\"NNS\",\"NNP\",\"NNPS\",\"RB\",\"RBR\",\"RBS\",\"JJ\",\"JJR\",\"JJS\"]  #keep only nouns ,adjectives and adverbs \n",
    "\n",
    "def pos_filter(row):  \n",
    "    keep_list=[]\n",
    "    for x,y in row:\n",
    "        if y in tag_filter:\n",
    "           keep_list.append(x) \n",
    "\n",
    "    return keep_list"
   ]
  },
  {
   "cell_type": "code",
   "execution_count": 97,
   "id": "56f4c1e1",
   "metadata": {},
   "outputs": [],
   "source": [
    "train_tweets['cleaned'] =train_tweets['cleaned'].apply(pos_filter)\n",
    "test_tweets['cleaned'] =test_tweets['cleaned'].apply(pos_filter)"
   ]
  },
  {
   "cell_type": "code",
   "execution_count": 98,
   "id": "839664d1",
   "metadata": {},
   "outputs": [
    {
     "data": {
      "text/html": [
       "<div>\n",
       "<style scoped>\n",
       "    .dataframe tbody tr th:only-of-type {\n",
       "        vertical-align: middle;\n",
       "    }\n",
       "\n",
       "    .dataframe tbody tr th {\n",
       "        vertical-align: top;\n",
       "    }\n",
       "\n",
       "    .dataframe thead th {\n",
       "        text-align: right;\n",
       "    }\n",
       "</style>\n",
       "<table border=\"1\" class=\"dataframe\">\n",
       "  <thead>\n",
       "    <tr style=\"text-align: right;\">\n",
       "      <th></th>\n",
       "      <th>OriginalTweet</th>\n",
       "      <th>Sentiment</th>\n",
       "      <th>cleaned</th>\n",
       "    </tr>\n",
       "  </thead>\n",
       "  <tbody>\n",
       "    <tr>\n",
       "      <th>0</th>\n",
       "      <td>@MeNyrbie @Phil_Gahan @Chrisitv https://t.co/i...</td>\n",
       "      <td>Neutral</td>\n",
       "      <td>[]</td>\n",
       "    </tr>\n",
       "    <tr>\n",
       "      <th>1</th>\n",
       "      <td>advice Talk to your neighbours family to excha...</td>\n",
       "      <td>Positive</td>\n",
       "      <td>[advice, family, exchange, phone, number, crea...</td>\n",
       "    </tr>\n",
       "    <tr>\n",
       "      <th>2</th>\n",
       "      <td>Coronavirus Australia: Woolworths to give elde...</td>\n",
       "      <td>Positive</td>\n",
       "      <td>[coronavirus, australia, elderly, hour, covid,...</td>\n",
       "    </tr>\n",
       "    <tr>\n",
       "      <th>3</th>\n",
       "      <td>My food stock is not the only one which is emp...</td>\n",
       "      <td>Positive</td>\n",
       "      <td>[food, stock, please, panic, enough, food, eve...</td>\n",
       "    </tr>\n",
       "    <tr>\n",
       "      <th>4</th>\n",
       "      <td>Me, ready to go at supermarket during the #COV...</td>\n",
       "      <td>Extremely Negative</td>\n",
       "      <td>[ready, supermarket, outbreak, not, im, parano...</td>\n",
       "    </tr>\n",
       "    <tr>\n",
       "      <th>5</th>\n",
       "      <td>As news of the regionÂs first confirmed COVID...</td>\n",
       "      <td>Positive</td>\n",
       "      <td>[news, region, first, covid, case, sullivan, c...</td>\n",
       "    </tr>\n",
       "    <tr>\n",
       "      <th>6</th>\n",
       "      <td>Cashier at grocery store was sharing his insig...</td>\n",
       "      <td>Positive</td>\n",
       "      <td>[cashier, grocery, store, insight, credibility...</td>\n",
       "    </tr>\n",
       "    <tr>\n",
       "      <th>7</th>\n",
       "      <td>Was at the supermarket today. Didn't buy toile...</td>\n",
       "      <td>Neutral</td>\n",
       "      <td>[supermarket, today, toilet, paper]</td>\n",
       "    </tr>\n",
       "    <tr>\n",
       "      <th>8</th>\n",
       "      <td>Due to COVID-19 our retail store and classroom...</td>\n",
       "      <td>Positive</td>\n",
       "      <td>[due, covid, retail, store, classroom, open, w...</td>\n",
       "    </tr>\n",
       "    <tr>\n",
       "      <th>9</th>\n",
       "      <td>For corona prevention,we should stop to buy th...</td>\n",
       "      <td>Negative</td>\n",
       "      <td>[corona, preventionwe, buy, thing, cash, use, ...</td>\n",
       "    </tr>\n",
       "  </tbody>\n",
       "</table>\n",
       "</div>"
      ],
      "text/plain": [
       "                                       OriginalTweet           Sentiment  \\\n",
       "0  @MeNyrbie @Phil_Gahan @Chrisitv https://t.co/i...             Neutral   \n",
       "1  advice Talk to your neighbours family to excha...            Positive   \n",
       "2  Coronavirus Australia: Woolworths to give elde...            Positive   \n",
       "3  My food stock is not the only one which is emp...            Positive   \n",
       "4  Me, ready to go at supermarket during the #COV...  Extremely Negative   \n",
       "5  As news of the regionÂs first confirmed COVID...            Positive   \n",
       "6  Cashier at grocery store was sharing his insig...            Positive   \n",
       "7  Was at the supermarket today. Didn't buy toile...             Neutral   \n",
       "8  Due to COVID-19 our retail store and classroom...            Positive   \n",
       "9  For corona prevention,we should stop to buy th...            Negative   \n",
       "\n",
       "                                             cleaned  \n",
       "0                                                 []  \n",
       "1  [advice, family, exchange, phone, number, crea...  \n",
       "2  [coronavirus, australia, elderly, hour, covid,...  \n",
       "3  [food, stock, please, panic, enough, food, eve...  \n",
       "4  [ready, supermarket, outbreak, not, im, parano...  \n",
       "5  [news, region, first, covid, case, sullivan, c...  \n",
       "6  [cashier, grocery, store, insight, credibility...  \n",
       "7                [supermarket, today, toilet, paper]  \n",
       "8  [due, covid, retail, store, classroom, open, w...  \n",
       "9  [corona, preventionwe, buy, thing, cash, use, ...  "
      ]
     },
     "execution_count": 98,
     "metadata": {},
     "output_type": "execute_result"
    }
   ],
   "source": [
    "train_tweets.head(10)"
   ]
  },
  {
   "cell_type": "code",
   "execution_count": 99,
   "id": "b1dc4c96",
   "metadata": {},
   "outputs": [],
   "source": [
    "# Make list of tokens again one string in order to be processed\n",
    "\n",
    "train_tweets['cleaned'] = train_tweets['cleaned'].apply(lambda x: ' '.join(x))\n",
    "test_tweets['cleaned'] = test_tweets['cleaned'].apply(lambda x: ' '.join(x))\n"
   ]
  },
  {
   "cell_type": "code",
   "execution_count": 100,
   "id": "a8156e50",
   "metadata": {},
   "outputs": [
    {
     "data": {
      "text/html": [
       "<div>\n",
       "<style scoped>\n",
       "    .dataframe tbody tr th:only-of-type {\n",
       "        vertical-align: middle;\n",
       "    }\n",
       "\n",
       "    .dataframe tbody tr th {\n",
       "        vertical-align: top;\n",
       "    }\n",
       "\n",
       "    .dataframe thead th {\n",
       "        text-align: right;\n",
       "    }\n",
       "</style>\n",
       "<table border=\"1\" class=\"dataframe\">\n",
       "  <thead>\n",
       "    <tr style=\"text-align: right;\">\n",
       "      <th></th>\n",
       "      <th>OriginalTweet</th>\n",
       "      <th>Sentiment</th>\n",
       "      <th>cleaned</th>\n",
       "    </tr>\n",
       "  </thead>\n",
       "  <tbody>\n",
       "    <tr>\n",
       "      <th>0</th>\n",
       "      <td>@MeNyrbie @Phil_Gahan @Chrisitv https://t.co/i...</td>\n",
       "      <td>Neutral</td>\n",
       "      <td></td>\n",
       "    </tr>\n",
       "    <tr>\n",
       "      <th>1</th>\n",
       "      <td>advice Talk to your neighbours family to excha...</td>\n",
       "      <td>Positive</td>\n",
       "      <td>advice family exchange phone number create con...</td>\n",
       "    </tr>\n",
       "    <tr>\n",
       "      <th>2</th>\n",
       "      <td>Coronavirus Australia: Woolworths to give elde...</td>\n",
       "      <td>Positive</td>\n",
       "      <td>coronavirus australia elderly hour covid outbreak</td>\n",
       "    </tr>\n",
       "    <tr>\n",
       "      <th>3</th>\n",
       "      <td>My food stock is not the only one which is emp...</td>\n",
       "      <td>Positive</td>\n",
       "      <td>food stock please panic enough food everyone t...</td>\n",
       "    </tr>\n",
       "    <tr>\n",
       "      <th>4</th>\n",
       "      <td>Me, ready to go at supermarket during the #COV...</td>\n",
       "      <td>Extremely Negative</td>\n",
       "      <td>ready supermarket outbreak not im paranoid foo...</td>\n",
       "    </tr>\n",
       "    <tr>\n",
       "      <th>5</th>\n",
       "      <td>As news of the regionÂs first confirmed COVID...</td>\n",
       "      <td>Positive</td>\n",
       "      <td>news region first covid case sullivan county l...</td>\n",
       "    </tr>\n",
       "    <tr>\n",
       "      <th>6</th>\n",
       "      <td>Cashier at grocery store was sharing his insig...</td>\n",
       "      <td>Positive</td>\n",
       "      <td>cashier grocery store insight credibility im c...</td>\n",
       "    </tr>\n",
       "    <tr>\n",
       "      <th>7</th>\n",
       "      <td>Was at the supermarket today. Didn't buy toile...</td>\n",
       "      <td>Neutral</td>\n",
       "      <td>supermarket today toilet paper</td>\n",
       "    </tr>\n",
       "    <tr>\n",
       "      <th>8</th>\n",
       "      <td>Due to COVID-19 our retail store and classroom...</td>\n",
       "      <td>Positive</td>\n",
       "      <td>due covid retail store classroom open walkin b...</td>\n",
       "    </tr>\n",
       "    <tr>\n",
       "      <th>9</th>\n",
       "      <td>For corona prevention,we should stop to buy th...</td>\n",
       "      <td>Negative</td>\n",
       "      <td>corona preventionwe buy thing cash use online ...</td>\n",
       "    </tr>\n",
       "  </tbody>\n",
       "</table>\n",
       "</div>"
      ],
      "text/plain": [
       "                                       OriginalTweet           Sentiment  \\\n",
       "0  @MeNyrbie @Phil_Gahan @Chrisitv https://t.co/i...             Neutral   \n",
       "1  advice Talk to your neighbours family to excha...            Positive   \n",
       "2  Coronavirus Australia: Woolworths to give elde...            Positive   \n",
       "3  My food stock is not the only one which is emp...            Positive   \n",
       "4  Me, ready to go at supermarket during the #COV...  Extremely Negative   \n",
       "5  As news of the regionÂs first confirmed COVID...            Positive   \n",
       "6  Cashier at grocery store was sharing his insig...            Positive   \n",
       "7  Was at the supermarket today. Didn't buy toile...             Neutral   \n",
       "8  Due to COVID-19 our retail store and classroom...            Positive   \n",
       "9  For corona prevention,we should stop to buy th...            Negative   \n",
       "\n",
       "                                             cleaned  \n",
       "0                                                     \n",
       "1  advice family exchange phone number create con...  \n",
       "2  coronavirus australia elderly hour covid outbreak  \n",
       "3  food stock please panic enough food everyone t...  \n",
       "4  ready supermarket outbreak not im paranoid foo...  \n",
       "5  news region first covid case sullivan county l...  \n",
       "6  cashier grocery store insight credibility im c...  \n",
       "7                     supermarket today toilet paper  \n",
       "8  due covid retail store classroom open walkin b...  \n",
       "9  corona preventionwe buy thing cash use online ...  "
      ]
     },
     "execution_count": 100,
     "metadata": {},
     "output_type": "execute_result"
    }
   ],
   "source": [
    "train_tweets.head(10)"
   ]
  },
  {
   "cell_type": "markdown",
   "id": "a2421815",
   "metadata": {},
   "source": [
    "# Classification"
   ]
  },
  {
   "cell_type": "code",
   "execution_count": 101,
   "id": "5caaf29e",
   "metadata": {},
   "outputs": [
    {
     "data": {
      "text/plain": [
       "<Axes: xlabel='Sentiment'>"
      ]
     },
     "execution_count": 101,
     "metadata": {},
     "output_type": "execute_result"
    },
    {
     "data": {
      "image/png": "[encoded data removed]",
      "text/plain": [
       "<Figure size 640x480 with 1 Axes>"
      ]
     },
     "metadata": {},
     "output_type": "display_data"
    }
   ],
   "source": [
    "train_tweets['Sentiment'].value_counts().plot.bar(ylim=0)"
   ]
  },
  {
   "cell_type": "code",
   "execution_count": 102,
   "id": "bd1b1ab8",
   "metadata": {},
   "outputs": [
    {
     "name": "stderr",
     "output_type": "stream",
     "text": [
      "C:\\Users\\nikig\\AppData\\Local\\Temp\\ipykernel_29568\\851784608.py:2: FutureWarning: Downcasting behavior in `replace` is deprecated and will be removed in a future version. To retain the old behavior, explicitly call `result.infer_objects(copy=False)`. To opt-in to the future behavior, set `pd.set_option('future.no_silent_downcasting', True)`\n",
      "  train_tweets['Sentiment'] = train_tweets['Sentiment'].replace({'Positive':1, 'Negative':0, 'Neutral':2, 'Extremely Positive':3, 'Extremely Negative':4})\n"
     ]
    }
   ],
   "source": [
    "#Transform Categories to numeric so our classifier can handle it\n",
    "train_tweets['Sentiment'] = train_tweets['Sentiment'].replace({'Positive':1, 'Negative':0, 'Neutral':2, 'Extremely Positive':3, 'Extremely Negative':4})"
   ]
  },
  {
   "cell_type": "code",
   "execution_count": 103,
   "id": "0527bd4a",
   "metadata": {},
   "outputs": [
    {
     "name": "stderr",
     "output_type": "stream",
     "text": [
      "C:\\Users\\nikig\\AppData\\Local\\Temp\\ipykernel_29568\\665607192.py:2: FutureWarning: Downcasting behavior in `replace` is deprecated and will be removed in a future version. To retain the old behavior, explicitly call `result.infer_objects(copy=False)`. To opt-in to the future behavior, set `pd.set_option('future.no_silent_downcasting', True)`\n",
      "  test_tweets['Sentiment'] = test_tweets['Sentiment'].replace({'Positive':1, 'Negative':0, 'Neutral':2, 'Extremely Positive':3, 'Extremely Negative':4})\n"
     ]
    }
   ],
   "source": [
    "#Transform Categories to numeric so our classifier can handle it\n",
    "test_tweets['Sentiment'] = test_tweets['Sentiment'].replace({'Positive':1, 'Negative':0, 'Neutral':2, 'Extremely Positive':3, 'Extremely Negative':4})"
   ]
  },
  {
   "cell_type": "markdown",
   "id": "9b812d88",
   "metadata": {},
   "source": [
    "## X_train, X_test, y_train, y_test"
   ]
  },
  {
   "cell_type": "code",
   "execution_count": 104,
   "id": "eee998d5",
   "metadata": {},
   "outputs": [],
   "source": [
    "X_train = train_tweets['cleaned']\n",
    "y_train = train_tweets['Sentiment']\n",
    "\n",
    "X_test = test_tweets['cleaned']\n",
    "y_test = test_tweets['Sentiment']"
   ]
  },
  {
   "cell_type": "markdown",
   "id": "d183f15e",
   "metadata": {},
   "source": [
    "## TF-IDF Vectorizer\n",
    "\n",
    "Algorithms do not understand words so we need to transform our text into a numeric representation. \n",
    "\n",
    "TfidfVectorizer does this transformation for us."
   ]
  },
  {
   "cell_type": "code",
   "execution_count": 105,
   "id": "b30a5216",
   "metadata": {},
   "outputs": [],
   "source": [
    "vectorizer = TfidfVectorizer(lowercase=False) #is already lowercase\n",
    "X_train = vectorizer.fit_transform(X_train)\n",
    "X_test = vectorizer.transform(X_test)"
   ]
  },
  {
   "cell_type": "markdown",
   "id": "e49fab39",
   "metadata": {},
   "source": [
    "## Algorithms"
   ]
  },
  {
   "cell_type": "markdown",
   "id": "8a51d8be",
   "metadata": {},
   "source": [
    "### Random Forest"
   ]
  },
  {
   "cell_type": "code",
   "execution_count": 106,
   "id": "75a316ee",
   "metadata": {},
   "outputs": [
    {
     "name": "stdout",
     "output_type": "stream",
     "text": [
      "RandomForestClassifier :\n",
      "              precision    recall  f1-score   support\n",
      "\n",
      "           0       0.44      0.41      0.42      1041\n",
      "           1       0.39      0.54      0.45       947\n",
      "           2       0.48      0.65      0.55       619\n",
      "           3       0.62      0.32      0.42       599\n",
      "           4       0.54      0.33      0.41       592\n",
      "\n",
      "    accuracy                           0.45      3798\n",
      "   macro avg       0.49      0.45      0.45      3798\n",
      "weighted avg       0.48      0.45      0.45      3798\n",
      "\n"
     ]
    }
   ],
   "source": [
    "clf=RandomForestClassifier()\n",
    "clf.fit(X_train, y_train)\n",
    "print('RandomForestClassifier :')\n",
    "\n",
    "y_pred = clf.predict(X_test)\n",
    "\n",
    "print(classification_report(y_test,y_pred))"
   ]
  },
  {
   "cell_type": "markdown",
   "id": "9e874d90",
   "metadata": {},
   "source": [
    "### Logistic Regression"
   ]
  },
  {
   "cell_type": "code",
   "execution_count": 107,
   "id": "2b2062c5",
   "metadata": {},
   "outputs": [
    {
     "name": "stdout",
     "output_type": "stream",
     "text": [
      "              precision    recall  f1-score   support\n",
      "\n",
      "           0       0.46      0.33      0.39      1041\n",
      "           1       0.44      0.37      0.40       947\n",
      "           2       0.47      0.68      0.55       619\n",
      "           3       0.55      0.61      0.58       599\n",
      "           4       0.48      0.58      0.53       592\n",
      "\n",
      "    accuracy                           0.48      3798\n",
      "   macro avg       0.48      0.51      0.49      3798\n",
      "weighted avg       0.48      0.48      0.47      3798\n",
      "\n"
     ]
    }
   ],
   "source": [
    "lr = LogisticRegression(max_iter=1000, class_weight='balanced', solver='liblinear')\n",
    "lr.fit(X_train, y_train)\n",
    "y_pred = lr.predict(X_test)\n",
    "\n",
    "print(classification_report(y_test, y_pred))"
   ]
  },
  {
   "cell_type": "markdown",
   "id": "abf3c51e",
   "metadata": {},
   "source": [
    "### Multinomial Naive Bayes\n"
   ]
  },
  {
   "cell_type": "code",
   "execution_count": 108,
   "id": "5a305bca",
   "metadata": {},
   "outputs": [
    {
     "name": "stdout",
     "output_type": "stream",
     "text": [
      "              precision    recall  f1-score   support\n",
      "\n",
      "           0       0.40      0.42      0.41      1041\n",
      "           1       0.32      0.85      0.46       947\n",
      "           2       0.65      0.09      0.16       619\n",
      "           3       0.71      0.05      0.10       599\n",
      "           4       0.70      0.02      0.05       592\n",
      "\n",
      "    accuracy                           0.35      3798\n",
      "   macro avg       0.56      0.29      0.24      3798\n",
      "weighted avg       0.52      0.35      0.28      3798\n",
      "\n"
     ]
    }
   ],
   "source": [
    "nb = MultinomialNB()\n",
    "nb.fit(X_train, y_train)\n",
    "y_pred = nb.predict(X_test)\n",
    "\n",
    "print(classification_report(y_test, y_pred))"
   ]
  },
  {
   "cell_type": "markdown",
   "id": "7b8c2d44",
   "metadata": {},
   "source": [
    "Poor results"
   ]
  },
  {
   "cell_type": "markdown",
   "id": "98711666",
   "metadata": {},
   "source": [
    "### Support Vector Machines"
   ]
  },
  {
   "cell_type": "code",
   "execution_count": 109,
   "id": "e7790c56",
   "metadata": {},
   "outputs": [
    {
     "name": "stderr",
     "output_type": "stream",
     "text": [
      "c:\\Users\\nikig\\anaconda3\\Lib\\site-packages\\sklearn\\svm\\_classes.py:31: FutureWarning: The default value of `dual` will change from `True` to `'auto'` in 1.5. Set the value of `dual` explicitly to suppress the warning.\n",
      "  warnings.warn(\n"
     ]
    },
    {
     "name": "stdout",
     "output_type": "stream",
     "text": [
      "              precision    recall  f1-score   support\n",
      "\n",
      "           0       0.45      0.34      0.39      1041\n",
      "           1       0.41      0.35      0.38       947\n",
      "           2       0.47      0.63      0.54       619\n",
      "           3       0.52      0.62      0.57       599\n",
      "           4       0.50      0.57      0.53       592\n",
      "\n",
      "    accuracy                           0.47      3798\n",
      "   macro avg       0.47      0.50      0.48      3798\n",
      "weighted avg       0.46      0.47      0.46      3798\n",
      "\n"
     ]
    }
   ],
   "source": [
    "\n",
    "svm = LinearSVC(class_weight='balanced')\n",
    "svm.fit(X_train, y_train)\n",
    "y_pred = svm.predict(X_test)\n",
    "\n",
    "print(classification_report(y_test, y_pred))"
   ]
  },
  {
   "cell_type": "markdown",
   "id": "954144bf",
   "metadata": {},
   "source": [
    "For a 5-class sentiment classification problem on tweets, the current results (around 48% accuracy, f1-scores in the 0.4–0.5 range) are not unusual since we are using classical ML algorithms.\n",
    "\n",
    "- The dataset has overlapping classes (like Positive vs. Extremely Positive).\n",
    "\n",
    "- We are using TF-IDF, which ignores context and word order."
   ]
  },
  {
   "cell_type": "code",
   "execution_count": null,
   "id": "3e00cc75",
   "metadata": {},
   "outputs": [],
   "source": []
  }
 ],
 "metadata": {
  "kernelspec": {
   "display_name": "base",
   "language": "python",
   "name": "python3"
  },
  "language_info": {
   "codemirror_mode": {
    "name": "ipython",
    "version": 3
   },
   "file_extension": ".py",
   "mimetype": "text/x-python",
   "name": "python",
   "nbconvert_exporter": "python",
   "pygments_lexer": "ipython3",
   "version": "3.12.3"
  }
 },
 "nbformat": 4,
 "nbformat_minor": 5
}
